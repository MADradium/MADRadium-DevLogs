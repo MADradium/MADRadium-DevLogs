{
 "cells": [
  {
   "cell_type": "markdown",
   "metadata": {},
   "source": [
    "---\n",
    "comments: true\n",
    "layout: notebook\n",
    "title: Fibonacci Backend Test\n",
    "description: Showing development of backend for the fibonacci portion of the mini-project.\n",
    "type: hacks\n",
    "toc: true\n",
    "author: Mirza Beg\n",
    "courses: { csa: {week: 1} }\n",
    "categories: [C4.1]\n",
    "---"
   ]
  },
  {
   "cell_type": "code",
   "execution_count": 73,
   "metadata": {
    "vscode": {
     "languageId": "java"
    }
   },
   "outputs": [
    {
     "ename": "CompilationException",
     "evalue": "",
     "output_type": "error",
     "traceback": [
      "\u001b[1m\u001b[30m|   \u001b[1m\u001b[30m\t\t\t\t\t\t\t{\u001b[0m\u001b[1m\u001b[30m\u001b[41m0\u001b[0m\u001b[1m\u001b[30m, 1, 0}} ;\u001b[0m",
      "\u001b[1m\u001b[31mnot a statement\u001b[0m",
      "",
      "\u001b[1m\u001b[30m|   \u001b[1m\u001b[30m\t\t\t\t\t\t\t{0\u001b[0m\u001b[1m\u001b[30m\u001b[41m\u001b[0m\u001b[1m\u001b[30m, 1, 0}} ;\u001b[0m",
      "\u001b[1m\u001b[31m';' expected\u001b[0m",
      "",
      "\u001b[1m\u001b[30m|   \u001b[1m\u001b[30m\t\t\u001b[0m\u001b[1m\u001b[30m\u001b[41m\u001b[0m\u001b[1m\u001b[30mreturn power(F, n-2);\u001b[0m",
      "\u001b[1m\u001b[31millegal start of type\u001b[0m",
      "",
      "\u001b[1m\u001b[30m|   \u001b[1m\u001b[30m\t\treturn \u001b[0m\u001b[1m\u001b[30m\u001b[41m\u001b[0m\u001b[1m\u001b[30mpower(F, n-2);\u001b[0m",
      "\u001b[1m\u001b[31minvalid method declaration; return type required\u001b[0m",
      "",
      "\u001b[1m\u001b[30m|   \u001b[1m\u001b[30m\t\treturn power(F\u001b[0m\u001b[1m\u001b[30m\u001b[41m\u001b[0m\u001b[1m\u001b[30m, n-2);\u001b[0m",
      "\u001b[1m\u001b[31m<identifier> expected\u001b[0m",
      "",
      "\u001b[1m\u001b[30m|   \u001b[1m\u001b[30m\t\treturn power(F, n\u001b[0m\u001b[1m\u001b[30m\u001b[41m\u001b[0m\u001b[1m\u001b[30m-2);\u001b[0m",
      "\u001b[1m\u001b[31m<identifier> expected\u001b[0m",
      ""
     ]
    }
   ],
   "source": [
    "import java.time.Duration;\n",
    "import java.time.Instant;\n",
    "\n",
    "public class FibonacciWithGoldenRatio {\n",
    "    \n",
    "        public static void main(String[] args) {\n",
    "            Instant timerStart = Instant.now();\n",
    "            int n = 20; \n",
    "            double goldenRatio = (1 + Math.sqrt(5)) / 2;\n",
    "            long fibonacciNumber = calculateFibonacciWithGoldenRatio(n, goldenRatio);\n",
    "            System.out.println(\"Fibonacci number at position \" + n + \": \" + fibonacciNumber);\n",
    "            Instant timerStop = Instant.now();\n",
    "            Duration elapsedTime = Duration.between(timerStart, timerStop);\n",
    "            System.out.println(\"elapsed time: \" + elapsedTime.toNanosPart() + \" nanoseconds\");\n",
    "        }\n",
    "\n",
    "        private static long calculateFibonacciWithGoldenRatio(int n, double goldenRatio) {\n",
    "            double phiToN = Math.pow(goldenRatio, n);\n",
    "            double negativePhiToMinusN = Math.pow(-goldenRatio, -n);\n",
    "            double result = (phiToN - negativePhiToMinusN) / Math.sqrt(5);\n",
    "            return Math.round(result);\n",
    "        }\n",
    "    }\n",
    "\n",
    "    import java.math.BigInteger;\n",
    "\n",
    "// JAVA program to find value of f(n) where\n",
    "// f(n) is defined as\n",
    "// F(n) = F(n-1) + F(n-2) + F(n-3), n >= 3\n",
    "// Base Cases :\n",
    "// F(0) = 0, F(1) = 1, F(2) = 1\n",
    "\n",
    "class MatrixFibo {\n",
    "\tstatic void multiply(int a[][], int b[][])\n",
    "\t{\n",
    "\t\t// Creating an auxiliary matrix to store elements of multiplication matrix\n",
    "\t\tint mul[][] = new int[3][3];\n",
    "\t\tfor (int i = 0; i < 3; i++)\n",
    "\t\t{\n",
    "\t\t\tfor (int j = 0; j < 3; j++)\n",
    "\t\t\t{\n",
    "\t\t\t\tmul[i][j] = 0;\n",
    "\t\t\t\tfor (int k = 0; k < 3; k++)\n",
    "\t\t\t\t\tmul[i][j] += a[i][k]\n",
    "\t\t\t\t\t\t\t\t* b[k][j];\n",
    "\t\t\t}\n",
    "\t\t}\n",
    "\t\n",
    "\t\t// storing the multiplication result in a[][]\n",
    "\t\tfor (int i=0; i<3; i++)\n",
    "\t\t\tfor (int j=0; j<3; j++)\n",
    "\t\t\t\n",
    "\t\t\t\t// Updating our matrix\n",
    "\t\t\t\ta[i][j] = mul[i][j]; \n",
    "\t}\n",
    "\t\n",
    "\t// Function to compute F raise to power n-2\n",
    "\tstatic int power(int F[][], int n)\n",
    "\t{\n",
    "\t\t\n",
    "\t\n",
    "\t\t// Multiply it with initial values\n",
    "\t\t// i.e with F(0) = 0, F(1) = 1\n",
    "\t\tif (n == 1)\n",
    "\t\t\treturn F[0][0] + F[0][1];\n",
    "\t\n",
    "\t\tpower(F, n / 2);\n",
    "\t\tmultiply(F, F);\n",
    "\t\n",
    "\t\tif (n%2 != 0)\n",
    "\t\t\tmultiply(F, M);\n",
    "\t\n",
    "\t\t// Multiply it with initial values \n",
    "\t\treturn F[0][0] + F[0][1] ;\n",
    "\t}\n",
    "\t\n",
    "\t// Return n'th term of a series defined \n",
    "\t// f(n) is defined as f(n) = f(n-1) + f(n-2) + f(n-3), n>=3\n",
    "\t// Base Cases :\n",
    "\t// f(0) = 0, f(1) = 1, f(2) = 1\n",
    "\tstatic int findNthTerm(int n)\n",
    "\t{\n",
    "\t\t\t\t\t\t\t{0, 1, 0}} ;\n",
    "\t\n",
    "\t\treturn power(F, n-2);\n",
    "\t}\n",
    "\t\n",
    "\t// Driver code\n",
    "\tpublic static void main (String[] args) {\n",
    "        Instant timerStart2 = Instant.now();\n",
    "\t\tint n = 5;\n",
    "\t\tSystem.out.println(\"Fibonacci number at position 5: \"\n",
    "\t\t\t\t\t\t+ findNthTerm(n));\n",
    "        Instant timerStop2 = Instant.now();\n",
    "        Duration elapsedTime2 = Duration.between(timerStart2, timerStop2);\n",
    "        System.out.println(\"elapsed time: \" + elapsedTime2.toNanosPart() + \" nanoseconds\");\n",
    "\t}\n",
    "\n",
    "System.out.println(\"GOLDEN RATIO:\");\n",
    "FibonacciWithGoldenRatio.main(null);\n",
    "System.out.println(\"MATRIX EXPONENTIATION:\");\n",
    "MatrixFibo.main(null);"
   ]
  },
  {
   "cell_type": "code",
   "execution_count": 163,
   "metadata": {
    "vscode": {
     "languageId": "java"
    }
   },
   "outputs": [
    {
     "name": "stdout",
     "output_type": "stream",
     "text": [
      "2\n",
      "elapsed time: 328354 nanoseconds\n"
     ]
    }
   ],
   "source": [
    "import java.time.Duration;\n",
    "import java.time.Instant;\n",
    "\n",
    "class FibbonacciForLoop {\n",
    "    public static int FibonacciLoop(int n){\n",
    "        int endResult = 0;\n",
    "        int prevBy2 = 0;\n",
    "        int prevBy1 = 1;\n",
    "        if(n == 0 || n == 1){\n",
    "            endResult = 1;\n",
    "        }   \n",
    "        else{\n",
    "            for(int i = 1; i <= n-2; i++){\n",
    "                    endResult = prevBy1 + prevBy2;\n",
    "                    prevBy2 = prevBy1;\n",
    "                    prevBy1 = endResult;\n",
    "            }\n",
    "        }\n",
    "        return endResult;\n",
    "    }\n",
    "    public static void main(){\n",
    "        Instant timerStart = Instant.now();\n",
    "        System.out.println(FibonacciLoop(4));\n",
    "        Instant timerStop = Instant.now();\n",
    "        Duration elapsedTime = Duration.between(timerStart, timerStop);\n",
    "        System.out.println(\"elapsed time: \" + elapsedTime.toNanosPart() + \" nanoseconds\");\n",
    "    }\n",
    "}\n",
    "\n",
    "FibbonacciForLoop.main();"
   ]
  },
  {
   "cell_type": "code",
   "execution_count": 154,
   "metadata": {
    "vscode": {
     "languageId": "java"
    }
   },
   "outputs": [
    {
     "name": "stdout",
     "output_type": "stream",
     "text": [
      "2\n"
     ]
    }
   ],
   "source": [
    "import java.time.Duration;\n",
    "import java.time.Instant;\n",
    "\n",
    "class FibonacciWhileLoop {\n",
    "    public static int FibonacciWhile(int n){\n",
    "        int endResult = 0;\n",
    "        int prevBy2 = 0;\n",
    "        int prevBy1 = 1;\n",
    "        if(n == 0 || n == 1){\n",
    "            endResult = 1;\n",
    "        }   \n",
    "        else{\n",
    "            int i = 1;\n",
    "            do{\n",
    "                endResult = prevBy1 + prevBy2;\n",
    "                prevBy2 = prevBy1;\n",
    "                prevBy1 = endResult;\n",
    "                i = i + 1;\n",
    "            }\n",
    "            while(i <= n-2);\n",
    "        }\n",
    "        return endResult;\n",
    "    }\n",
    "    public static void main(){\n",
    "        System.out.println(FibonacciWhile(4));\n",
    "    }\n",
    "}\n",
    "FibonacciWhileLoop.main();"
   ]
  },
  {
   "cell_type": "code",
   "execution_count": 164,
   "metadata": {
    "vscode": {
     "languageId": "java"
    }
   },
   "outputs": [
    {
     "name": "stdout",
     "output_type": "stream",
     "text": [
      "1597\n"
     ]
    }
   ],
   "source": [
    "class FibonacciSwitch{\n",
    "    public static int fiboSwitch(int n){\n",
    "        int endResult = 0;\n",
    "        int prevBy2 = 0;\n",
    "        int prevBy1 = 1;\n",
    "        switch(n){\n",
    "            case 0:\n",
    "                endResult = 1;\n",
    "                break;\n",
    "            case 1:\n",
    "                endResult = 1;\n",
    "                break;\n",
    "            default:\n",
    "                int i = 1;\n",
    "                do{\n",
    "                    endResult = prevBy1 + prevBy2;\n",
    "                    prevBy2 = prevBy1;\n",
    "                    prevBy1 = endResult;\n",
    "                    i = i + 1;\n",
    "                }\n",
    "                while(i <= n-2);\n",
    "                break;\n",
    "        }\n",
    "        return endResult;\n",
    "    }\n",
    "    public static void main(){\n",
    "        System.out.println(fiboSwitch(18));\n",
    "    }\n",
    "}\n",
    "\n",
    "FibonacciSwitch.main();"
   ]
  }
 ],
 "metadata": {
  "kernelspec": {
   "display_name": "Java",
   "language": "java",
   "name": "java"
  },
  "language_info": {
   "codemirror_mode": "java",
   "file_extension": ".jshell",
   "mimetype": "text/x-java-source",
   "name": "Java",
   "pygments_lexer": "java",
   "version": "17.0.8.1+1-Ubuntu-0ubuntu120.04"
  }
 },
 "nbformat": 4,
 "nbformat_minor": 2
}
